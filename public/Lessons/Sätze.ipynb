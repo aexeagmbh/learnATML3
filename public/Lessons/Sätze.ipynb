{
 "cells": [
  {
   "cell_type": "markdown",
   "metadata": {},
   "source": [
    "## Satz\n",
    "\n",
    "# Schreiben Sie einen Satz\n",
    "ATML3 baut Texte aus einzelnen Aussagen auf. Diese Aussagen schreibt man erst einmal auf, wie gewohnt.\n",
    "\n",
    "## Aufgabe:\n",
    "Denken Sie sich einen Satz aus und schreiben Sie ihn ins Datenfeld \"Text\""
   ]
  },
  {
   "cell_type": "code",
   "execution_count": null,
   "metadata": {
    "collapsed": true
   },
   "outputs": [],
   "source": [
    "## In diesem Block finden Sie eine ATML3-Aufgabe vor\n",
    "\n",
    "{\n",
    "    \"name\" : \"meinSatz\",\n",
    "    \"triggers\" : [ \"Auto\" ],\n",
    "    \"obligatory\" : true,\n",
    "    \"comment\" : \"\",\n",
    "    \"variants\" : {\n",
    "      \"de-DE\" : [ {\n",
    "        \"text\" : \"\",\n",
    "        \"synonyms\" : { },\n",
    "        \"tags\" : [ ]\n",
    "      } ]\n",
    "    }\n",
    "  },"
   ]
  },
  {
   "cell_type": "code",
   "execution_count": null,
   "metadata": {
    "collapsed": true
   },
   "outputs": [],
   "source": [
    "## In diesem Block sehen Sie einen Datensatz. Daraus erzeugt ihr ATML3-Code Sprache.\n",
    "\n",
    "# Daten: JSON-Beispieldaten. Egal welche."
   ]
  },
  {
   "cell_type": "code",
   "execution_count": null,
   "metadata": {
    "collapsed": true
   },
   "outputs": [],
   "source": [
    "## Dieser Block berechnet das Ergebnis der Aufgabe\n",
    "\n",
    "# Rendern: Beispieltemplate mit dem in 1. erzeugten Satz.\n"
   ]
  }
 ],
 "metadata": {
  "kernelspec": {
   "display_name": "Python 3",
   "language": "python",
   "name": "python3"
  },
  "language_info": {
   "codemirror_mode": {
    "name": "ipython",
    "version": 3
   },
   "file_extension": ".py",
   "mimetype": "text/x-python",
   "name": "python",
   "nbconvert_exporter": "python",
   "pygments_lexer": "ipython3",
   "version": "3.5.1"
  }
 },
 "nbformat": 4,
 "nbformat_minor": 0
}
