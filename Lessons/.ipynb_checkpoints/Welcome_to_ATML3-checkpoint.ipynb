{
 "cells": [
  {
   "cell_type": "markdown",
   "metadata": {},
   "source": [
    "## ATML3\n",
    "\n",
    "# Investieren Sie 5 Minuten und lernen Sie etwas über die weltweit einzige NLG-Trainingssprache\n",
    "\n",
    "Mit ATML3 können Sie einer Maschine beibringen, Ihre Texte zu schreiben. Was Sie dazu tun müssen, lernen Sie in 5-minütigen Lektionen.\n",
    "\n",
    "## Die Lektionen folgen immer der folgenden Struktur:"
   ]
  },
  {
   "cell_type": "code",
   "execution_count": null,
   "metadata": {
    "collapsed": true
   },
   "outputs": [],
   "source": [
    "## In diesem Block finden Sie eine ATML3-Aufgabe vor"
   ]
  },
  {
   "cell_type": "code",
   "execution_count": null,
   "metadata": {
    "collapsed": true
   },
   "outputs": [],
   "source": [
    "## In diesem Block sehen Sie einen Datensatz. Daraus erzeugt ihr ATML3-Code Sprache."
   ]
  },
  {
   "cell_type": "code",
   "execution_count": null,
   "metadata": {
    "collapsed": true
   },
   "outputs": [],
   "source": [
    "## Dieser Block berechnet das Ergebnis der Aufgabe"
   ]
  }
 ],
 "metadata": {
  "kernelspec": {
   "display_name": "Python 3",
   "language": "python",
   "name": "python3"
  },
  "language_info": {
   "codemirror_mode": {
    "name": "ipython",
    "version": 3
   },
   "file_extension": ".py",
   "mimetype": "text/x-python",
   "name": "python",
   "nbconvert_exporter": "python",
   "pygments_lexer": "ipython3",
   "version": "3.5.1"
  }
 },
 "nbformat": 4,
 "nbformat_minor": 0
}
